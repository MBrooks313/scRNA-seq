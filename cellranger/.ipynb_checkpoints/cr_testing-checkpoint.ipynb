{
 "cells": [
  {
   "cell_type": "code",
   "execution_count": 1,
   "id": "2e2b2e10-1a0a-4d35-ab00-e491b806e76b",
   "metadata": {},
   "outputs": [],
   "source": [
    "import glob\n",
    "import os\n",
    "import json\n",
    "import pandas as pd"
   ]
  },
  {
   "cell_type": "code",
   "execution_count": 22,
   "id": "4b9e3a82-3c5d-4d97-93ba-2ef5e15add09",
   "metadata": {},
   "outputs": [],
   "source": [
    "# Import configs\n",
    "with open(\"cr_config.json\", \"r\") as jsonfile:\n",
    "    config = json.load(jsonfile)"
   ]
  },
  {
   "cell_type": "code",
   "execution_count": 28,
   "id": "ed62cdce-ded4-49de-8306-17edb9586f5c",
   "metadata": {},
   "outputs": [
    {
     "ename": "AttributeError",
     "evalue": "'list' object has no attribute 'unique'",
     "output_type": "error",
     "traceback": [
      "\u001b[0;31m---------------------------------------------------------------------------\u001b[0m",
      "\u001b[0;31mAttributeError\u001b[0m                            Traceback (most recent call last)",
      "\u001b[0;32m/var/folders/jb/nw52bd8j0bz6ht4vfxln_0b0019dy7/T/ipykernel_53276/2760327859.py\u001b[0m in \u001b[0;36m<module>\u001b[0;34m\u001b[0m\n\u001b[1;32m      4\u001b[0m \u001b[0;31m#print(fqs)\u001b[0m\u001b[0;34m\u001b[0m\u001b[0;34m\u001b[0m\u001b[0m\n\u001b[1;32m      5\u001b[0m \u001b[0;34m\u001b[0m\u001b[0m\n\u001b[0;32m----> 6\u001b[0;31m \u001b[0msamples\u001b[0m \u001b[0;34m=\u001b[0m \u001b[0;34m[\u001b[0m\u001b[0mi\u001b[0m\u001b[0;34m.\u001b[0m\u001b[0msplit\u001b[0m\u001b[0;34m(\u001b[0m\u001b[0;34m\"/\"\u001b[0m\u001b[0;34m)\u001b[0m\u001b[0;34m[\u001b[0m\u001b[0;34m-\u001b[0m\u001b[0;36m2\u001b[0m\u001b[0;34m]\u001b[0m \u001b[0;32mfor\u001b[0m \u001b[0mi\u001b[0m \u001b[0;32min\u001b[0m \u001b[0mfqs\u001b[0m\u001b[0;34m]\u001b[0m\u001b[0;34m.\u001b[0m\u001b[0munique\u001b[0m\u001b[0;34m(\u001b[0m\u001b[0;34m)\u001b[0m\u001b[0;34m\u001b[0m\u001b[0;34m\u001b[0m\u001b[0m\n\u001b[0m\u001b[1;32m      7\u001b[0m \u001b[0;34m\u001b[0m\u001b[0m\n\u001b[1;32m      8\u001b[0m \u001b[0mprint\u001b[0m\u001b[0;34m(\u001b[0m\u001b[0msamples\u001b[0m\u001b[0;34m)\u001b[0m\u001b[0;34m\u001b[0m\u001b[0;34m\u001b[0m\u001b[0m\n",
      "\u001b[0;31mAttributeError\u001b[0m: 'list' object has no attribute 'unique'"
     ]
    }
   ],
   "source": [
    "# Grab all fastq files \n",
    "\n",
    "fqs = glob.glob(config['work_dir'] + \"/**/*R[12]*fastq.gz\", recursive=True)\n",
    "#print(fqs)\n",
    "\n",
    "print(samples)\n",
    "# Make a dict of the directories and fastqs\n",
    "d = {'sample': [i.split(\"/\")[-2] for i in fqs],\n",
    "     'fastq': [i.split(\"/\")[-1] for i in fqs]}\n",
    "\n",
    "# Make a DataFrame from the dict\n",
    "df = pd.DataFrame(d)\n",
    "\n",
    "# Sort the DataFrame\n",
    "df = df.sort_values(by = ['sample', 'fastq'])\n",
    "\n",
    "print(df)\n",
    "\n",
    "samples = df['sample'].unique().tolist()"
   ]
  },
  {
   "cell_type": "code",
   "execution_count": 36,
   "id": "3070f475-3325-49d9-8b43-7ad22fb83aa4",
   "metadata": {},
   "outputs": [
    {
     "name": "stdout",
     "output_type": "stream",
     "text": [
      "mm_ret_M1_D37C_rep1\n",
      "mm_ret_M3_whole\n",
      "mm_ret_M18_whole\n",
      "mm_ret_M1_SN_rep2\n",
      "mm_ret_M3_CD73neg\n",
      "mm_ret_M1_D8C_rep2\n",
      "mm_ret_M24_whole\n",
      "mm_ret_M1_SN_rep1\n",
      "mm_ret_M18_CD73neg\n",
      "mm_ret_M1_D8C_rep1\n",
      "mm_ret_M12_CD73neg\n",
      "mm_ret_M1_MeOH_rep2\n",
      "mm_ret_M12_whole\n",
      "mm_ret_M24_CD73neg\n",
      "mm_ret_M1_D37C_rep2\n"
     ]
    }
   ],
   "source": [
    "# Get samples with fastqs\n",
    "fqs = glob.glob(config['work_dir'] + \"/**/*R[12]*fastq.gz\", recursive=True)\n",
    "\n",
    "fq_samples = [i.split(\"/\")[-2] for i in fqs]\n",
    "\n",
    "# Get unique samples names\n",
    "samples = []\n",
    "\n",
    "for x in fq_samples:\n",
    "    if x not in samples:\n",
    "        samples.append(x)\n"
   ]
  },
  {
   "cell_type": "code",
   "execution_count": 24,
   "id": "606fd77b-8b71-4f1f-afd4-6e368cf15b48",
   "metadata": {},
   "outputs": [
    {
     "name": "stdout",
     "output_type": "stream",
     "text": [
      "/Volumes/data-1/scRNA-seq/06_200310/**/*R[12]*fastq.gz\n"
     ]
    }
   ],
   "source": [
    "print(config['work_dir'] + \"/**/*R[12]*fastq.gz\")"
   ]
  }
 ],
 "metadata": {
  "kernelspec": {
   "display_name": "Python 3 (ipykernel)",
   "language": "python",
   "name": "python3"
  },
  "language_info": {
   "codemirror_mode": {
    "name": "ipython",
    "version": 3
   },
   "file_extension": ".py",
   "mimetype": "text/x-python",
   "name": "python",
   "nbconvert_exporter": "python",
   "pygments_lexer": "ipython3",
   "version": "3.9.13"
  }
 },
 "nbformat": 4,
 "nbformat_minor": 5
}
