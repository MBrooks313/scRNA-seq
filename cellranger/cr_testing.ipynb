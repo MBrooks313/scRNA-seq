{
 "cells": [
  {
   "cell_type": "code",
   "execution_count": 1,
   "id": "2e2b2e10-1a0a-4d35-ab00-e491b806e76b",
   "metadata": {},
   "outputs": [],
   "source": [
    "import glob\n",
    "import os\n",
    "import json\n",
    "import pandas as pd"
   ]
  },
  {
   "cell_type": "code",
   "execution_count": 22,
   "id": "4b9e3a82-3c5d-4d97-93ba-2ef5e15add09",
   "metadata": {},
   "outputs": [],
   "source": [
    "# Import configs\n",
    "with open(\"cr_config.json\", \"r\") as jsonfile:\n",
    "    config = json.load(jsonfile)"
   ]
  },
  {
   "cell_type": "code",
   "execution_count": 36,
   "id": "3070f475-3325-49d9-8b43-7ad22fb83aa4",
   "metadata": {},
   "outputs": [
    {
     "name": "stdout",
     "output_type": "stream",
     "text": [
      "mm_ret_M1_D37C_rep1\n",
      "mm_ret_M3_whole\n",
      "mm_ret_M18_whole\n",
      "mm_ret_M1_SN_rep2\n",
      "mm_ret_M3_CD73neg\n",
      "mm_ret_M1_D8C_rep2\n",
      "mm_ret_M24_whole\n",
      "mm_ret_M1_SN_rep1\n",
      "mm_ret_M18_CD73neg\n",
      "mm_ret_M1_D8C_rep1\n",
      "mm_ret_M12_CD73neg\n",
      "mm_ret_M1_MeOH_rep2\n",
      "mm_ret_M12_whole\n",
      "mm_ret_M24_CD73neg\n",
      "mm_ret_M1_D37C_rep2\n"
     ]
    }
   ],
   "source": [
    "# Get samples with fastqs\n",
    "fqs = glob.glob(config['work_dir'] + \"/**/*R[12]*fastq.gz\", recursive=True)\n",
    "\n",
    "fq_samples = [i.split(\"/\")[-2] for i in fqs]\n",
    "\n",
    "# Get unique samples names\n",
    "samples = []\n",
    "\n",
    "for x in fq_samples:\n",
    "    if x not in samples:\n",
    "        samples.append(x)\n"
   ]
  },
  {
   "cell_type": "code",
   "execution_count": 24,
   "id": "606fd77b-8b71-4f1f-afd4-6e368cf15b48",
   "metadata": {},
   "outputs": [
    {
     "name": "stdout",
     "output_type": "stream",
     "text": [
      "/Volumes/data-1/scRNA-seq/06_200310/**/*R[12]*fastq.gz\n"
     ]
    }
   ],
   "source": [
    "# Make an export doc for each sample\n",
    "for sample in samples:\n",
    "    \n",
    "    # bash doc for sbatch\n",
    "    file_nm = \"01_\" + sample + \".sh\"\n",
    "    \n",
    "    with open(path.join(work_dir, \"src\", file_nm), \"w\") as file:\n",
    "        \n",
    "        # Common lines for analysis\n",
    "        shebang = \"#!/bin/bash\"\n",
    "        usage = \"# sbatch --cpus-per-task=32 --mem=120G --time=24:00:00 --gres=lscratch:100 \" + file_nm\n",
    "        md = \"mkdir -p \" + config[\"work_dir\"] + \"/cellranger_out\"\n",
    "        cd = \"cd \" + config[\"work_dir\"] + \"/cellranger_out\"\n",
    "        mod = \"module load cellranger/\" + config['cr_ver']\n",
    "        line1 = \"cellranger count \\\\\"\n",
    "        line2 = \"--id \" + sample + \" \\\\\"\n",
    "        line3 = \"--transcriptome \" + config['cr_ref'] + \" \\\\\"\n",
    "        line4 = \"--fastqs \\\\\"\n",
    "        line5 = \"-o kall_out/\" + sample + \" \\\\\"\n",
    "        line6 = \"--h5ad \\\\\"\n",
    "        line7 = \"--filter bustools \\\\\"\n",
    "        line8 = \"--overwrite -t 16 \\\\\"\n",
    "        line9 = \"--verbose \\\\\"\n",
    "        nl = \"\"  \n",
    "        common_lines = [shebang, nl, usage, nl, mod, nl, \n",
    "                        line1, line2, line3, line4, line5, line6, line7, line8,\n",
    "                        line9]\n",
    "        \n",
    "        # Get fastq files for the sample and join with directory\n",
    "        tmp_fqs = df[df['sample'] == sample]['fastq'].tolist()\n",
    "        tmp_fqs = [path.join(sample, i) for i in tmp_fqs]\n",
    "        sample_fqs = [\"%s \\\\\" % i for i in tmp_fqs[:-1]]\n",
    "        sample_fqs = sample_fqs + [tmp_fqs[-1]]\n",
    "        \n",
    "        # Join all lines and write to file\n",
    "        lines = common_lines + sample_fqs\n",
    "        file.writelines(\"%s\\n\" % l for l in lines)"
   ]
  }
 ],
 "metadata": {
  "kernelspec": {
   "display_name": "Python 3 (ipykernel)",
   "language": "python",
   "name": "python3"
  },
  "language_info": {
   "codemirror_mode": {
    "name": "ipython",
    "version": 3
   },
   "file_extension": ".py",
   "mimetype": "text/x-python",
   "name": "python",
   "nbconvert_exporter": "python",
   "pygments_lexer": "ipython3",
   "version": "3.9.13"
  }
 },
 "nbformat": 4,
 "nbformat_minor": 5
}
